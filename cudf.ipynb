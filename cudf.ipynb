{
 "cells": [
  {
   "cell_type": "markdown",
   "metadata": {},
   "source": [
    "# Tour of cudf\n",
    "\n",
    "The RAPIDS cuDF library is a GPU DataFrame manipulation library based on Apache Arrow that accelerates loading, filtering, and manipulation of data for model training data preparation. The RAPIDS GPU DataFrame provides a pandas-like API that will be familiar to data scientists, so they can now build GPU-accelerated workflows more easily.\n",
    "\n",
    "## Table of contents\n",
    "* Loading data into a GPU DataFrame\n",
    "    * Creating DataFrames in Python\n",
    "    * Creating DataFrames from CSVs\n",
    "    * Creating DataFrames from pandas\n",
    "* Working with GPU DataFrames\n",
    "    * Inspecting and slicing the data\n",
    "    * Modifying data types\n",
    "    * Manipulating the data\n",
    "    * Sorting the data\n",
    "    * Filter the data\n",
    "    * Grouping, joining and merging data\n",
    "    * One-hot encoding\n",
    "    \n",
    "Useful cheatsheet: https://rapids.ai/files/cheatsheet.pdf"
   ]
  },
  {
   "cell_type": "markdown",
   "metadata": {},
   "source": [
    "# Loading data into a GPU DataFrame"
   ]
  },
  {
   "cell_type": "markdown",
   "metadata": {},
   "source": [
    "## Creating DataFrames in Python"
   ]
  },
  {
   "cell_type": "code",
   "execution_count": 1,
   "metadata": {},
   "outputs": [],
   "source": [
    "import os\n",
    "\n",
    "import cudf\n",
    "# import pandas as cudf to mimic this on CPU.\n",
    "import pandas as pd\n",
    "import numpy as np"
   ]
  },
  {
   "cell_type": "code",
   "execution_count": 2,
   "metadata": {},
   "outputs": [
    {
     "name": "stdout",
     "output_type": "stream",
     "text": [
      "  my_column\n",
      "0         1\n",
      "1         2\n",
      "2         3\n",
      "     b    a\n",
      "0    3    1\n",
      "1    4    2\n"
     ]
    }
   ],
   "source": [
    "gdf = cudf.DataFrame()\n",
    "gdf['my_column'] = [1, 2, 3]\n",
    "print(gdf)\n",
    "\n",
    "gdf = cudf.DataFrame({'a': [1, 2], 'b': [3, 4]})\n",
    "print(gdf)"
   ]
  },
  {
   "cell_type": "markdown",
   "metadata": {},
   "source": [
    "## Creating DataFrames from CSVs"
   ]
  },
  {
   "cell_type": "code",
   "execution_count": 3,
   "metadata": {},
   "outputs": [
    {
     "name": "stdout",
     "output_type": "stream",
     "text": [
      "         city zipcode       price_per_m2         year_built population median_income                    date\n",
      " 0 1265951705    2100  5444.022222000001        1985.111111       4332         26167 2018-09-06T00:00:00.000\n",
      " 1 1265951705    2130             3768.0        1972.857143       5983         29579 2018-08-20T00:00:00.000\n",
      " 2 1265951705    2140             2770.0            1977.75       3689         29447 2018-12-19T00:00:00.000\n",
      " 3 1265951705    2160            4865.25             1990.0       3194         35167 2018-10-26T00:00:00.000\n",
      " 4 1265951705    2170 3860.9375000000005 1972.9375000000002       5679         29153 2018-10-17T00:00:00.000\n",
      " 5 1265951705    2180             3774.0 1986.6666670000002       6786         32550 2019-02-22T00:00:00.000\n",
      " 6 1265951705    2200             3445.0             1963.5      10728         27063 2018-09-10T00:00:00.000\n",
      " 7 1265951705    2210 2965.4888889999993 1979.5555560000003      11186         25047 2018-08-24T00:00:00.000\n",
      " 8 1265951705    2230 4035.0750000000003             1992.3      20397         23074 2018-12-09T00:00:00.000\n",
      " 9 1265951705    2260             3800.0             1996.0       3709         26331 2019-01-29T00:00:00.000\n",
      "[83 more rows]\n"
     ]
    }
   ],
   "source": [
    "home = os.path.expanduser('~')\n",
    "path = os.path.join(home, 'demo/docker/data/apartments.csv')\n",
    "# Note: dtype detection is not yet supported.\n",
    "names = ['city', 'zipcode', 'price_per_m2', 'year_built', 'population', 'median_income', 'date']\n",
    "dtypes = ['category', 'int64', 'float64', 'float64', 'int64', 'int64', 'date']\n",
    "# Don't use 'dtype' with pandas.\n",
    "gdf = cudf.read_csv(path, names=names, dtype=dtypes, delimiter=';', skiprows=1, skipfooter=1)\n",
    "print(gdf)"
   ]
  },
  {
   "cell_type": "markdown",
   "metadata": {},
   "source": [
    "## Creating DataFrames from pandas"
   ]
  },
  {
   "cell_type": "code",
   "execution_count": 4,
   "metadata": {},
   "outputs": [
    {
     "name": "stdout",
     "output_type": "stream",
     "text": [
      "    city zipcode price_per_m2         year_built population median_income                    date\n",
      " 0 espoo    2100  5444.022222        1985.111111       4332         26167 2018-09-06T00:00:00.000\n",
      " 1 espoo    2130       3768.0        1972.857143       5983         29579 2018-08-20T00:00:00.000\n",
      " 2 espoo    2140       2770.0            1977.75       3689         29447 2018-12-19T00:00:00.000\n",
      " 3 espoo    2160      4865.25             1990.0       3194         35167 2018-10-26T00:00:00.000\n",
      " 4 espoo    2170    3860.9375          1972.9375       5679         29153 2018-10-17T00:00:00.000\n",
      " 5 espoo    2180       3774.0 1986.6666670000002       6786         32550 2019-02-22T00:00:00.000\n",
      " 6 espoo    2200       3445.0             1963.5      10728         27063 2018-09-10T00:00:00.000\n",
      " 7 espoo    2210  2965.488889 1979.5555559999998      11186         25047 2018-08-24T00:00:00.000\n",
      " 8 espoo    2230     4035.075             1992.3      20397         23074 2018-12-09T00:00:00.000\n",
      " 9 espoo    2260       3800.0             1996.0       3709         26331 2019-01-29T00:00:00.000\n",
      "[83 more rows]\n"
     ]
    }
   ],
   "source": [
    "df = pd.read_csv(path, delimiter=';')\n",
    "\n",
    "# Convert data types to ones supported by cudf.\n",
    "df['city'] = df['city'].astype('category')\n",
    "df['date'] = df['date'].astype(\"datetime64[ms]\")\n",
    "\n",
    "gdf = cudf.DataFrame.from_pandas(df) # Obviously, not applicable in pandas.\n",
    "print(gdf)"
   ]
  },
  {
   "cell_type": "markdown",
   "metadata": {},
   "source": [
    "# Working with GPU DataFrames"
   ]
  },
  {
   "cell_type": "markdown",
   "metadata": {},
   "source": [
    "## Inspecting and slicing the data"
   ]
  },
  {
   "cell_type": "code",
   "execution_count": 5,
   "metadata": {},
   "outputs": [
    {
     "name": "stdout",
     "output_type": "stream",
     "text": [
      "        \n",
      " 0  4332\n",
      " 1  5983\n",
      " 2  3689\n",
      " 3  3194\n",
      " 4  5679\n",
      " 5  6786\n",
      " 6 10728\n",
      " 7 11186\n",
      " 8 20397\n",
      " 9  3709\n",
      "[83 more rows]\n",
      "   city zipcode price_per_m2  year_built population median_income                    date\n",
      "0 espoo    2100  5444.022222 1985.111111       4332         26167 2018-09-06T00:00:00.000\n",
      "1 espoo    2130       3768.0 1972.857143       5983         29579 2018-08-20T00:00:00.000\n",
      "2 espoo    2140       2770.0     1977.75       3689         29447 2018-12-19T00:00:00.000\n"
     ]
    }
   ],
   "source": [
    "print(gdf['population'])\n",
    "print(gdf.head(3))"
   ]
  },
  {
   "cell_type": "code",
   "execution_count": 6,
   "metadata": {},
   "outputs": [
    {
     "name": "stdout",
     "output_type": "stream",
     "text": [
      "  zipcode         year_built\n",
      "2    2140            1977.75\n",
      "3    2160             1990.0\n",
      "4    2170          1972.9375\n",
      "5    2180 1986.6666670000002\n"
     ]
    }
   ],
   "source": [
    "print(gdf.loc[2:5, ['zipcode', 'year_built']])"
   ]
  },
  {
   "cell_type": "code",
   "execution_count": 7,
   "metadata": {},
   "outputs": [
    {
     "data": {
      "text/plain": [
       "(8014.397849462365, 4373.122998945762)"
      ]
     },
     "execution_count": 7,
     "metadata": {},
     "output_type": "execute_result"
    }
   ],
   "source": [
    "gdf['population'].mean(), gdf['population'].std()"
   ]
  },
  {
   "cell_type": "code",
   "execution_count": 8,
   "metadata": {},
   "outputs": [
    {
     "name": "stdout",
     "output_type": "stream",
     "text": [
      "      \n",
      "helsinki   65\n",
      "espoo   28\n",
      "2\n"
     ]
    }
   ],
   "source": [
    "print(gdf['city'].value_counts())\n",
    "print(gdf['city'].unique_count()) # unique() in pandas."
   ]
  },
  {
   "cell_type": "code",
   "execution_count": 9,
   "metadata": {},
   "outputs": [
    {
     "name": "stdout",
     "output_type": "stream",
     "text": [
      "{'val': <cudf.DataFrame ncols=7 nrows=19 >, 'train': <cudf.DataFrame ncols=7 nrows=75 >}\n"
     ]
    }
   ],
   "source": [
    "train_fraction = 0.8\n",
    "split_point = int(len(gdf)*train_fraction)\n",
    "\n",
    "gdfs = {\n",
    "    \"train\": gdf.loc[:split_point],\n",
    "    \"val\": gdf.loc[split_point:]\n",
    "}\n",
    "\n",
    "print(gdfs)"
   ]
  },
  {
   "cell_type": "markdown",
   "metadata": {},
   "source": [
    "## Modifying data types"
   ]
  },
  {
   "cell_type": "code",
   "execution_count": 10,
   "metadata": {},
   "outputs": [
    {
     "name": "stdout",
     "output_type": "stream",
     "text": [
      "city                   category\n",
      "zipcode                   int64\n",
      "price_per_m2            float64\n",
      "year_built              float64\n",
      "population                int64\n",
      "median_income             int64\n",
      "date             datetime64[ms]\n",
      "dtype: object\n",
      "Median income dtype used to be: int64\n",
      "Median income dtype is now: float64\n"
     ]
    }
   ],
   "source": [
    "print(gdf.dtypes)\n",
    "\n",
    "print('Median income dtype used to be:', gdf['median_income'].dtype)\n",
    "gdf['median_income'] = gdf['median_income'].astype(np.float64)\n",
    "print('Median income dtype is now:', gdf['median_income'].dtype)"
   ]
  },
  {
   "cell_type": "markdown",
   "metadata": {},
   "source": [
    "## Manipulating the data"
   ]
  },
  {
   "cell_type": "code",
   "execution_count": 11,
   "metadata": {},
   "outputs": [
    {
     "name": "stdout",
     "output_type": "stream",
     "text": [
      "   city zipcode price_per_m2  year_built population median_income                    date\n",
      "0 espoo    2100  5444.022222 1985.111111       4332       52334.0 2018-09-06T00:00:00.000\n",
      "1 espoo    2130       3768.0 1972.857143       5983       59158.0 2018-08-20T00:00:00.000\n",
      "2 espoo    2140       2770.0     1977.75       3689       58894.0 2018-12-19T00:00:00.000\n",
      "3 espoo    2160      4865.25      1990.0       3194       70334.0 2018-10-26T00:00:00.000\n",
      "4 espoo    2170    3860.9375   1972.9375       5679       58306.0 2018-10-17T00:00:00.000\n"
     ]
    }
   ],
   "source": [
    "def double_income(median_income):\n",
    "    return 2*median_income\n",
    "\n",
    "# Not in pandas.\n",
    "gdf['median_income'] = gdf['median_income'].applymap(double_income)\n",
    "\n",
    "print(gdf.head())"
   ]
  },
  {
   "cell_type": "code",
   "execution_count": 12,
   "metadata": {},
   "outputs": [
    {
     "name": "stdout",
     "output_type": "stream",
     "text": [
      "   city zipcode price_per_m2  year_built population median_income                    date         my_feature\n",
      "0 espoo    2100  5444.022222 1985.111111       4332       52334.0 2018-09-06T00:00:00.000 1.2566994972299168\n",
      "1 espoo    2130       3768.0 1972.857143       5983       59158.0 2018-08-20T00:00:00.000 0.6297843891024569\n",
      "2 espoo    2140       2770.0     1977.75       3689       58894.0 2018-12-19T00:00:00.000 0.7508809975603145\n",
      "3 espoo    2160      4865.25      1990.0       3194       70334.0 2018-10-26T00:00:00.000  1.523246712586099\n",
      "4 espoo    2170    3860.9375   1972.9375       5679       58306.0 2018-10-17T00:00:00.000 0.6798622116569819\n"
     ]
    }
   ],
   "source": [
    "gdf['my_feature'] = gdf['price_per_m2'] / gdf['population']\n",
    "print(gdf.head())"
   ]
  },
  {
   "cell_type": "code",
   "execution_count": 13,
   "metadata": {},
   "outputs": [
    {
     "name": "stdout",
     "output_type": "stream",
     "text": [
      "   city zipcode price_per_m2  year_built population median_income                    date ...                out2\n",
      "0 espoo    2100  5444.022222 1985.111111       4332       52334.0 2018-09-06T00:00:00.000 ... -14346.955554999999\n",
      "1 espoo    2130       3768.0 1972.857143       5983       59158.0 2018-08-20T00:00:00.000 ...        -9331.142857\n",
      "2 espoo    2140       2770.0     1977.75       3689       58894.0 2018-12-19T00:00:00.000 ...            -6332.25\n",
      "3 espoo    2160      4865.25      1990.0       3194       70334.0 2018-10-26T00:00:00.000 ...           -12605.75\n",
      "4 espoo    2170    3860.9375   1972.9375       5679       58306.0 2018-10-17T00:00:00.000 ...           -9609.875\n",
      "[2 more columns]\n"
     ]
    }
   ],
   "source": [
    "# Not in pandas.\n",
    "# Define input columns for the kernel\n",
    "price_per_m2 = gdf['price_per_m2']\n",
    "year_built = gdf['year_built']\n",
    "\n",
    "def kernel(price_per_m2, year_built, out1, out2, kwarg1, kwarg2):\n",
    "    for i, (x, y) in enumerate(zip(price_per_m2, year_built)):\n",
    "       out1[i] = kwarg2 * x - kwarg1 * y\n",
    "       out2[i] = y - kwarg1 * x\n",
    "        \n",
    "result = gdf.apply_rows(kernel,\n",
    "                        incols=['price_per_m2', 'year_built'],\n",
    "                        outcols=dict(out1=np.float64, out2=np.float64),\n",
    "                        kwargs=dict(kwarg1=3, kwarg2=4))\n",
    "\n",
    "print(result.head())"
   ]
  },
  {
   "cell_type": "code",
   "execution_count": 14,
   "metadata": {},
   "outputs": [
    {
     "name": "stdout",
     "output_type": "stream",
     "text": [
      "   city zipcode price_per_m2  year_built population median_income         my_feature\n",
      "0 espoo    2100  5444.022222 1985.111111       4332       52334.0 1.2566994972299168\n",
      "1 espoo    2130       3768.0 1972.857143       5983       59158.0 0.6297843891024569\n",
      "2 espoo    2140       2770.0     1977.75       3689       58894.0 0.7508809975603145\n",
      "3 espoo    2160      4865.25      1990.0       3194       70334.0  1.523246712586099\n",
      "4 espoo    2170    3860.9375   1972.9375       5679       58306.0 0.6798622116569819\n"
     ]
    }
   ],
   "source": [
    "gdf.drop_column('date') # drop() in some pandas versions.\n",
    "print(gdf.head())"
   ]
  },
  {
   "cell_type": "markdown",
   "metadata": {},
   "source": [
    "## Sorting the data"
   ]
  },
  {
   "cell_type": "code",
   "execution_count": 15,
   "metadata": {},
   "outputs": [
    {
     "name": "stdout",
     "output_type": "stream",
     "text": [
      "      city zipcode price_per_m2         year_built population median_income          my_feature\n",
      "0 helsinki     940  1982.028571        1967.914286      25817       38172.0 0.07677222647867685\n",
      "1    espoo    2230     4035.075             1992.3      20397       46148.0  0.1978268863068098\n",
      "2 helsinki     530  5090.853659         1944.54878      18663       42582.0    0.27277788453089\n",
      "3 helsinki     100  6284.152542        1935.067797      17868       51206.0 0.35169870953660176\n",
      "4    espoo    2320       3003.0 1987.2222219999999      16322       46152.0 0.18398480578360496\n"
     ]
    }
   ],
   "source": [
    "gdf = gdf.sort_values(by='population', ascending=False)\n",
    "gdf = gdf.reset_index()\n",
    "print(gdf.head())"
   ]
  },
  {
   "cell_type": "code",
   "execution_count": 16,
   "metadata": {},
   "outputs": [
    {
     "name": "stdout",
     "output_type": "stream",
     "text": [
      "      city zipcode price_per_m2         year_built population median_income         my_feature\n",
      "92 helsinki     310       3971.0        1972.111111        896       46688.0  4.431919642857143\n",
      "91 helsinki     130       7916.0             1911.4       1536       56220.0  5.153645833333333\n",
      "90 helsinki     340  4497.333333 1973.3333329999998       1654       64768.0 2.7190648929866987\n"
     ]
    }
   ],
   "source": [
    "print(gdf.nsmallest(n=3, columns=['population']))"
   ]
  },
  {
   "cell_type": "markdown",
   "metadata": {},
   "source": [
    "## Filtering the data"
   ]
  },
  {
   "cell_type": "code",
   "execution_count": 17,
   "metadata": {},
   "outputs": [
    {
     "name": "stdout",
     "output_type": "stream",
     "text": [
      "      city zipcode       price_per_m2         year_built population median_income         my_feature\n",
      "31 helsinki     150 7727.5714290000005        1907.857143       9299       49734.0 0.8310110150553823\n",
      "44 helsinki     140  7416.905659999999        1925.075472       7817       55194.0  0.948817405654343\n",
      "46 helsinki     170             6310.5 1922.3823530000002       7391       54394.0 0.8538086862400216\n",
      "91 helsinki     130             7916.0             1911.4       1536       56220.0  5.153645833333333\n"
     ]
    }
   ],
   "source": [
    "old = gdf.query(\"year_built < 1930\")\n",
    "print(old)"
   ]
  },
  {
   "cell_type": "markdown",
   "metadata": {},
   "source": [
    "## Grouping, joining and merging data"
   ]
  },
  {
   "cell_type": "code",
   "execution_count": 18,
   "metadata": {},
   "outputs": [
    {
     "name": "stdout",
     "output_type": "stream",
     "text": [
      "      city count_zipcode    mean_year_built\n",
      "0    espoo            28 1986.1633418214285\n",
      "1 helsinki            65 1969.2979250307694\n"
     ]
    }
   ],
   "source": [
    "# Difference to pandas: aggregated column names are prefixed with the aggregation function name.\n",
    "# Also, 'city' becomes index in cudf but not in pandas.\n",
    "grouped = gdf.groupby(['city']).agg({'zipcode': 'count', 'year_built': 'mean'})\n",
    "print(grouped)"
   ]
  },
  {
   "cell_type": "code",
   "execution_count": 19,
   "metadata": {},
   "outputs": [],
   "source": [
    "pdf = pd.DataFrame({'city': ['helsinki', 'tampere'], 'feature1': [1, 2], 'feature2': [3, 4]})\n",
    "pdf.city = pdf.city.astype('category')\n",
    "\n",
    "left = grouped\n",
    "right = cudf.DataFrame.from_pandas(pdf) # just 'pdf' with pandas."
   ]
  },
  {
   "cell_type": "code",
   "execution_count": 20,
   "metadata": {},
   "outputs": [
    {
     "name": "stdout",
     "output_type": "stream",
     "text": [
      "      city count_zipcode    mean_year_built\n",
      "0    espoo            28 1986.1633418214285\n",
      "1 helsinki            65 1969.2979250307694\n",
      "      city feature1 feature2\n",
      "0 helsinki        1        3\n",
      "1  tampere        2        4\n"
     ]
    }
   ],
   "source": [
    "print(left)\n",
    "print(right)"
   ]
  },
  {
   "cell_type": "code",
   "execution_count": 21,
   "metadata": {},
   "outputs": [],
   "source": [
    "# join() uses the index.\n",
    "join_left = left.set_index('city')\n",
    "join_right = right.set_index('city')"
   ]
  },
  {
   "cell_type": "code",
   "execution_count": 22,
   "metadata": {},
   "outputs": [
    {
     "name": "stdout",
     "output_type": "stream",
     "text": [
      "          feature1  feature2  count_zipcode  mean_year_built\n",
      "helsinki         1         3             65      1969.297925\n",
      "tampere          2         4             -1              NaN\n"
     ]
    }
   ],
   "source": [
    "how = 'right' # Different join styles are supported.\n",
    "joined = join_left.join(join_right, how=how)\n",
    "joined = joined.to_pandas() # not used in pandas.\n",
    "print(joined)"
   ]
  },
  {
   "cell_type": "code",
   "execution_count": 23,
   "metadata": {},
   "outputs": [
    {
     "name": "stdout",
     "output_type": "stream",
     "text": [
      "      city count_zipcode    mean_year_built feature1 feature2\n",
      "0 helsinki            65 1969.2979250307694        1        3\n",
      "1    espoo            28 1986.1633418214285                  \n",
      "      city count_zipcode    mean_year_built feature1 feature2\n",
      "0 helsinki            65 1969.2979250307694        1        3\n",
      "1    espoo            28 1986.1633418214285                -1\n"
     ]
    }
   ],
   "source": [
    "# merge() uses some column. Only inner join is supported currently.\n",
    "merged = left.merge(right, on=['city'])\n",
    "print(merged)\n",
    "merged['feature2'] = merged['feature2'].fillna(-1)\n",
    "print(merged)"
   ]
  },
  {
   "cell_type": "markdown",
   "metadata": {},
   "source": [
    "## One-hot encoding"
   ]
  },
  {
   "cell_type": "code",
   "execution_count": 24,
   "metadata": {},
   "outputs": [
    {
     "name": "stdout",
     "output_type": "stream",
     "text": [
      "      \n",
      "0    0\n",
      "1    1\n",
      "        city  zipcode  price_per_m2   year_built  population  median_income  \\\n",
      "0   helsinki      940   1982.028571  1967.914286       25817        38172.0   \n",
      "1      espoo     2230   4035.075000  1992.300000       20397        46148.0   \n",
      "2   helsinki      530   5090.853659  1944.548780       18663        42582.0   \n",
      "3   helsinki      100   6284.152542  1935.067797       17868        51206.0   \n",
      "4      espoo     2320   3003.000000  1987.222222       16322        46152.0   \n",
      "5   helsinki      200   5370.273585  1972.075472       14921        51890.0   \n",
      "6      espoo     2760   3104.730769  1990.423077       14360        45784.0   \n",
      "7   helsinki      420   3115.660000  1968.060000       13869        40204.0   \n",
      "8   helsinki      560   4438.666667  1946.666667       13187        47068.0   \n",
      "9   helsinki      700   3187.916667  1986.500000       13176        41880.0   \n",
      "10  helsinki      180   7638.097222  1979.083333       13157        48798.0   \n",
      "11  helsinki      500   5150.263158  1959.157895       12618        41126.0   \n",
      "12  helsinki      710   2483.375000  1967.625000       12480        40892.0   \n",
      "13  helsinki      920   2723.600000  1974.133333       12149        42346.0   \n",
      "14  helsinki      810   4638.175439  1981.105263       11469        46646.0   \n",
      "15  helsinki      730   3166.300000  1985.700000       11305        49488.0   \n",
      "16     espoo     2210   2965.488889  1979.555556       11186        50094.0   \n",
      "17  helsinki      250   5694.029412  1938.000000       11079        48652.0   \n",
      "18  helsinki      790   4206.425000  2012.425000       10839        44026.0   \n",
      "19     espoo     2600   4161.116279  1997.093023       10829        47384.0   \n",
      "20     espoo     2200   3445.000000  1963.500000       10728        54126.0   \n",
      "21  helsinki      970   2340.966667  1974.733333       10633        41496.0   \n",
      "22     espoo     2770   2921.000000  1995.714286       10401        43192.0   \n",
      "23  helsinki      740   2455.545455  1976.272727       10201        44664.0   \n",
      "24     espoo     2940   2998.600000  1989.866667       10140        53162.0   \n",
      "25  helsinki      320   4360.306452  1962.354839        9726        46272.0   \n",
      "26     espoo     2360   2755.739130  1975.217391        9582        48864.0   \n",
      "27  helsinki      400   3635.888889  1961.333333        9450        41008.0   \n",
      "28  helsinki      550   4976.000000  1949.136364        9368        38730.0   \n",
      "29  helsinki      350   4598.750000  1957.958333        9315        45780.0   \n",
      "..       ...      ...           ...          ...         ...            ...   \n",
      "63     espoo     2130   3768.000000  1972.857143        5983        59158.0   \n",
      "64     espoo     2170   3860.937500  1972.937500        5679        58306.0   \n",
      "65  helsinki      950   3700.666667  1995.333333        5629        52882.0   \n",
      "66     espoo     2920   2050.000000  1980.000000        5244        54076.0   \n",
      "67  helsinki      240   4701.266667  1996.533333        5138        44414.0   \n",
      "68     espoo     2340   3106.200000  1990.200000        5041        56360.0   \n",
      "69  helsinki      430   3140.000000  1971.500000        4884        53070.0   \n",
      "70  helsinki      440   3771.052632  1981.421053        4513        42148.0   \n",
      "71  helsinki      160   5734.384615  1947.846154        4470        53336.0   \n",
      "72  helsinki      380   4283.500000  1995.000000        4356        46384.0   \n",
      "73  helsinki      650   3866.000000  1970.333333        4345        48028.0   \n",
      "74     espoo     2100   5444.022222  1985.111111        4332        52334.0   \n",
      "75  helsinki      900   2814.400000  1963.100000        4135        38484.0   \n",
      "76  helsinki      600   2576.000000  1972.666667        4120        35836.0   \n",
      "77  helsinki      570   4461.076923  1961.846154        3824        54140.0   \n",
      "78     espoo     2260   3800.000000  1996.000000        3709        52662.0   \n",
      "79     espoo     2140   2770.000000  1977.750000        3689        58894.0   \n",
      "80     espoo     2970   2879.000000  1988.000000        3685        52136.0   \n",
      "81  helsinki      680   3467.200000  1986.400000        3640        56368.0   \n",
      "82     espoo     2160   4865.250000  1990.000000        3194        70334.0   \n",
      "83  helsinki      850   3952.600000  1994.200000        3119        57564.0   \n",
      "84     espoo     2720   2684.750000  1962.500000        3008        50886.0   \n",
      "85  helsinki      280   5144.105263  1973.368421        3000        44504.0   \n",
      "86  helsinki      220   8868.000000  2015.600000        2918        45300.0   \n",
      "87  helsinki      830   3730.500000  1974.750000        2255        61522.0   \n",
      "88  helsinki      360   3621.333333  1958.750000        1875        44210.0   \n",
      "89     espoo     2810   2998.000000  2006.000000        1664        56902.0   \n",
      "90  helsinki      340   4497.333333  1973.333333        1654        64768.0   \n",
      "91  helsinki      130   7916.000000  1911.400000        1536        56220.0   \n",
      "92  helsinki      310   3971.000000  1972.111111         896        46688.0   \n",
      "\n",
      "    my_feature  city_codes  city_codes_dummy_0  city_codes_dummy_1  \n",
      "0     0.076772           1                 0.0                 1.0  \n",
      "1     0.197827           0                 1.0                 0.0  \n",
      "2     0.272778           1                 0.0                 1.0  \n",
      "3     0.351699           1                 0.0                 1.0  \n",
      "4     0.183985           0                 1.0                 0.0  \n",
      "5     0.359914           1                 0.0                 1.0  \n",
      "6     0.216207           0                 1.0                 0.0  \n",
      "7     0.224649           1                 0.0                 1.0  \n",
      "8     0.336594           1                 0.0                 1.0  \n",
      "9     0.241949           1                 0.0                 1.0  \n",
      "10    0.580535           1                 0.0                 1.0  \n",
      "11    0.408168           1                 0.0                 1.0  \n",
      "12    0.198988           1                 0.0                 1.0  \n",
      "13    0.224183           1                 0.0                 1.0  \n",
      "14    0.404410           1                 0.0                 1.0  \n",
      "15    0.280080           1                 0.0                 1.0  \n",
      "16    0.265107           0                 1.0                 0.0  \n",
      "17    0.513948           1                 0.0                 1.0  \n",
      "18    0.388082           1                 0.0                 1.0  \n",
      "19    0.384257           0                 1.0                 0.0  \n",
      "20    0.321122           0                 1.0                 0.0  \n",
      "21    0.220161           1                 0.0                 1.0  \n",
      "22    0.280838           0                 1.0                 0.0  \n",
      "23    0.240716           1                 0.0                 1.0  \n",
      "24    0.295720           0                 1.0                 0.0  \n",
      "25    0.448314           1                 0.0                 1.0  \n",
      "26    0.287595           0                 1.0                 0.0  \n",
      "27    0.384750           1                 0.0                 1.0  \n",
      "28    0.531170           1                 0.0                 1.0  \n",
      "29    0.493693           1                 0.0                 1.0  \n",
      "..         ...         ...                 ...                 ...  \n",
      "63    0.629784           0                 1.0                 0.0  \n",
      "64    0.679862           0                 1.0                 0.0  \n",
      "65    0.657429           1                 0.0                 1.0  \n",
      "66    0.390923           0                 1.0                 0.0  \n",
      "67    0.914999           1                 0.0                 1.0  \n",
      "68    0.616187           0                 1.0                 0.0  \n",
      "69    0.642916           1                 0.0                 1.0  \n",
      "70    0.835598           1                 0.0                 1.0  \n",
      "71    1.282860           1                 0.0                 1.0  \n",
      "72    0.983356           1                 0.0                 1.0  \n",
      "73    0.889758           1                 0.0                 1.0  \n",
      "74    1.256699           0                 1.0                 0.0  \n",
      "75    0.680629           1                 0.0                 1.0  \n",
      "76    0.625243           1                 0.0                 1.0  \n",
      "77    1.166600           1                 0.0                 1.0  \n",
      "78    1.024535           0                 1.0                 0.0  \n",
      "79    0.750881           0                 1.0                 0.0  \n",
      "80    0.781275           0                 1.0                 0.0  \n",
      "81    0.952527           1                 0.0                 1.0  \n",
      "82    1.523247           0                 1.0                 0.0  \n",
      "83    1.267265           1                 0.0                 1.0  \n",
      "84    0.892537           0                 1.0                 0.0  \n",
      "85    1.714702           1                 0.0                 1.0  \n",
      "86    3.039068           1                 0.0                 1.0  \n",
      "87    1.654324           1                 0.0                 1.0  \n",
      "88    1.931378           1                 0.0                 1.0  \n",
      "89    1.801683           0                 1.0                 0.0  \n",
      "90    2.719065           1                 0.0                 1.0  \n",
      "91    5.153646           1                 0.0                 1.0  \n",
      "92    4.431920           1                 0.0                 1.0  \n",
      "\n",
      "[93 rows x 10 columns]\n"
     ]
    }
   ],
   "source": [
    "# get_dummies() in pandas.\n",
    "gdf['city_codes'] = gdf.city.cat.codes\n",
    "codes = gdf.city_codes.unique()\n",
    "print(codes)\n",
    "encoded = gdf.one_hot_encoding(column='city_codes', prefix='city_codes_dummy', cats=codes)\n",
    "\n",
    "print(encoded.to_pandas())"
   ]
  }
 ],
 "metadata": {
  "kernelspec": {
   "display_name": "Python 3",
   "language": "python",
   "name": "python3"
  },
  "language_info": {
   "codemirror_mode": {
    "name": "ipython",
    "version": 3
   },
   "file_extension": ".py",
   "mimetype": "text/x-python",
   "name": "python",
   "nbconvert_exporter": "python",
   "pygments_lexer": "ipython3",
   "version": "3.5.5"
  }
 },
 "nbformat": 4,
 "nbformat_minor": 2
}
